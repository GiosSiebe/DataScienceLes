{
 "cells": [
  {
   "cell_type": "markdown",
   "metadata": {},
   "source": [
    "# Les Data Science\n",
    "## Wie zijn wij\n",
    "Wij zijn Siebe Gios en Thijs Lintermans, 2 IT studenten aan Thomas More Geel.\n",
    "Volg ons op linkedin: \n",
    "\n",
    "* https://www.linkedin.com/in/siebegios/\n",
    "* https://www.linkedin.com/in/thijs-lintermans-760433296/\n",
    "\n",
    "Enkele van onze projecten:\n",
    "\n",
    "* Automatische muizenval: https://www.youtube.com/watch?v=wL5IIJe-xog\n",
    "* Zelfrijdende robot voor de bib van Geel : https://www.youtube.com/watch?v=97KRLjtvOak\n",
    "* Webscraping Selenium in C# : https://www.youtube.com/watch?v=xCpfEAcVdy8\n",
    "* Pentesting project : https://github.com/GiosSiebe/PentestingProject\n",
    "* Enkele website\n",
    "    * https://powerup-gym.netlify.app/\n",
    "    * https://siebegios.be/\n",
    "    * https://ostentium.com/\n",
    "    \n",
    "* Onze github repo's\n",
    "    * https://github.com/GiosSiebe?tab=repositories\n",
    " "
   ]
  },
  {
   "cell_type": "markdown",
   "metadata": {},
   "source": [
    "## Wat is Data Science\n",
    "### Wat is Data?\n",
    "\n",
    "Data kunnen foto's, audio, tweets, csv bestand of nog veel meer zijn.\n",
    "<br>\n",
    "<br>\n",
    "<br>\n",
    "![image info](./images/Picture1.png)\n",
    "\n",
    "### Wat is Data Science?\n",
    "Data Science is een mix van skills.\n",
    "<br>\n",
    "<br>\n",
    "<br>\n",
    "![image info](./images/Picture2.png)\n",
    "\n",
    "### Wat is de relatie me A.I.?\n",
    "AI of Artificiële intelligentie = technieken om intelligentie van mensen na te bootsen\n",
    "\n",
    "ML of machine learning = Subset van A.I. Om machines te leren een taak beter te doen door ervaring\n",
    "\n",
    "DL of deep learning = subset van ML dat artificiële neurale netwerken gebruikt met vele lagen\n",
    "\n",
    "Data Science = begrijpen van je data\n",
    "<br>\n",
    "<br>\n",
    "<br>\n",
    "![image info](./images/Picture3.png)\n",
    "\n",
    "### Een optionele video\n",
    "[Wat is data science](https://www.youtube.com/watch?v=X3paOmcrTjQ)."
   ]
  },
  {
   "cell_type": "markdown",
   "metadata": {},
   "source": [
    "## Data Science Proces\n",
    "Het data science proces\n",
    "<br>\n",
    "<br>\n",
    "<br>\n",
    "![image info](./images/Picture4.png)\n",
    "![image info](./images/Picture5.svg)\n",
    "\n",
    "### Welke taal gebruiken we?\n",
    "R:\n",
    "Statistische taal, gebruikt door meeste onderzoekers en professors wiskunde\n",
    "originieel eerste taal en enige taal voor data science\n",
    "<br>\n",
    "<br>\n",
    "Python:\n",
    "Globale programmeertaal, gebruikt door computer specialisten\n",
    "<br>\n",
    "<br>\n",
    "Julia:\n",
    "Programmeertaal voor data science\n",
    "Fixed problemen met Python die je hebt met gigantisch veel data"
   ]
  },
  {
   "cell_type": "markdown",
   "metadata": {},
   "source": [
    "## Web scraping in Python\n",
    "### Wat is Web Scraping?\n",
    "Process van schrapen van informatie van websites\n",
    "\n",
    "Converteren van gehaalde data\n",
    "\n",
    "Stom, omdat je databasemaakt van website gemaakt van database\n",
    "    MAAR geen toegang\n",
    "\n",
    "Scrape werkt enkel als website niet veranderd\n"
   ]
  }
 ],
 "metadata": {
  "language_info": {
   "name": "python"
  }
 },
 "nbformat": 4,
 "nbformat_minor": 2
}
