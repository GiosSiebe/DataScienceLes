{
 "cells": [
  {
   "cell_type": "markdown",
   "metadata": {},
   "source": [
    "## Demo oefening\n",
    "Scrapen van data van fake job advertising website\n",
    "\n",
    "https://realpython.github.io/fake-jobs/\n"
   ]
  },
  {
   "cell_type": "markdown",
   "metadata": {},
   "source": [
    "### Stap 1\n",
    "Inspecteer site URL(s) en gebruikte query parameters\n",
    "\n",
    "Inspecteer site’s DOM (document object model)\n",
    "\n",
    "![image info](./images/Picture6.png)"
   ]
  },
  {
   "cell_type": "markdown",
   "metadata": {},
   "source": [
    "### Stap 2\n",
    "Laad de verkregen HTML code van een specifieke URL in je script door gebruik van Pythons requests bibliotheek\n",
    "\n",
    "Installeer bibliotheek in je venv eerst: pip install request\n",
    "\n",
    "\n",
    "![image info](./images/Picture7.png)"
   ]
  },
  {
   "cell_type": "markdown",
   "metadata": {},
   "source": [
    "### Stap 3\n",
    "Filter antwoord van stap 2 naar de data die je nodig hebt\n",
    "Met Python library Beautiful Soup\n",
    "\n",
    "https://www.crummy.com/software/BeautifulSoup/bs4/doc/\n",
    "\n",
    "Installeer library eerst in venv: pip install beautifulsoup4\n",
    "\n",
    "Zet antwoord om naar html-formaat\n",
    "\n",
    "\n",
    "![image info](./images/Picture8.png)\n",
    "\n",
    "Vind element dat je nodig hebt door gebruik van id attribuut\n",
    "Resultaat is gefiltered deel van hele html soup\n",
    "\n",
    "![image info](./images/Picture9.png)\n",
    "![image info](./images/Picture10.png)\n",
    "\n",
    "Vind elementen (find_all()) die je nodig hebt door gebruik van HTML class name\n",
    "\n",
    "Resultaat is itereerbaar deel van hele html soup\n",
    "\n",
    "![image info](./images/Picture11.png)\n",
    "![image info](./images/Picture12.png)"
   ]
  },
  {
   "cell_type": "markdown",
   "metadata": {},
   "source": [
    "### Stap 4\n",
    "Filter informatie die je nodig hebt uit kaart met find()\n",
    "\n",
    "![image info](./images/Picture13.png)\n",
    "![image info](./images/Picture14.png)\n",
    "\n",
    "#### Extra\n",
    "Gebruik regex om informatie te filteren die je nodig hebt uit kaart\n",
    "\n",
    "![image info](./images/Picture15.png)\n",
    "![image info](./images/Picture16.png)"
   ]
  },
  {
   "cell_type": "markdown",
   "metadata": {},
   "source": [
    "### Oefening\n",
    "#### Optie 1\n",
    "\n",
    "http://books.toscrape.com/\n",
    "\n",
    "![image info](./images/Picture17.png)\n",
    "![image info](./images/Picture18.png)\n",
    "![image info](./images/Picture19.png)\n",
    "\n",
    "#### Optie 2\n",
    "\n",
    "https://www.bol.com/be/nl/\n",
    "\n",
    "![image info](./images/Picture20.png)\n",
    "\n",
    "\n",
    "#### Extra oefening\n",
    "\n",
    "Kies zelf een website\n",
    "\n",
    "Bekijk de HTML structuur van de website\n",
    "\n",
    "Probeer alles toe te passen dat je geleerd hebt vandaag"
   ]
  }
 ],
 "metadata": {
  "language_info": {
   "name": "python"
  }
 },
 "nbformat": 4,
 "nbformat_minor": 2
}
